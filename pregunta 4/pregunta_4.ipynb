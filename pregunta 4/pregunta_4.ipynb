{
  "cells": [
    {
      "cell_type": "markdown",
      "metadata": {
        "id": "QXaZGOJprZya"
      },
      "source": [
        "\n",
        "## **4. Con el uso de librerías en PYTHON, construya la dependencia de Abuelos, tíos, padres, primos e hijos de su familia.**\n",
        "\n"
      ]
    },
    {
      "cell_type": "code",
      "execution_count": 64,
      "metadata": {
        "colab": {
          "base_uri": "https://localhost:8080/"
        },
        "id": "UFD1QFLZWl3y",
        "outputId": "c595b684-5980-4e1f-ab12-6a9302029466"
      },
      "outputs": [
        {
          "name": "stdout",
          "output_type": "stream",
          "text": [
            "('Roberto', 'Luisa')\n",
            "('Noemi', 'Isrrael', 'Tania', 'Alvaro')\n",
            "('Felisa', 'Ernesto')\n",
            "('Cristian',)\n",
            "('William', 'Cristian', 'Amalia', 'Rosa', 'Abigail', 'OScar')\n"
          ]
        }
      ],
      "source": [
        "from kanren import Relation, facts,var,run,lall\n",
        "from kanren.constraints import neq\n",
        "x=var()\n",
        "padres=Relation()\n",
        "facts(padres,(\"Evaristo\",\"Isrrael\"),\n",
        "            (\"Evaristo\",\"Tania\"),\n",
        "            (\"Evaristo\",\"Alvaro\"),\n",
        "            (\"Evaristo\",\"Noemi\"),\n",
        "            (\"Evaristo\",\"Luis\"),\n",
        "            (\"Maria\",\"Tania\"),\n",
        "            (\"Maria\",\"Alvaro\"),\n",
        "            (\"Maria\",\"Noemi\"),\n",
        "            (\"Maria\",\"Luis\"),\n",
        "           (\"Maria\",\"Isrrael\"),\n",
        "            (\"Luisa\",\"Maria\"),\n",
        "            (\"Luisa\",\"Felisa\"),\n",
        "            (\"Felisa\",\"Amalia\"),\n",
        "            (\"Felisa\",\"William\"),\n",
        "            (\"Felisa\",\"OScar\"),\n",
        "            (\"Felisa\",\"Abigail\"),\n",
        "            (\"Roberto\",\"Evaristo\"),\n",
        "            (\"Roberto\",\"Ernesto\"),\n",
        "            (\"Ernesto\",\"Rosa\"),\n",
        "            (\"Ernesto\",\"Cristian\"),\n",
        "            (\"Julian\",\"Marge\"),\n",
        "            (\"Julian\",\"Felisa\"))\n",
        "\n",
        "\n",
        "def hijos(x,y):\n",
        "  return lall(padres(y,x))\n",
        "\n",
        "def abuelos(x,z):\n",
        "  y=var()\n",
        "  return lall(padres(x,y),padres(y,z))\n",
        "def hermanos(x,y):\n",
        "  p=var()\n",
        "  return lall(padres(p,y),hijos(x,p),neq(x,y))\n",
        "def tios(x1,z):\n",
        "  y=var()\n",
        "  x2=var()\n",
        "  return lall(padres(x2,z),hermanos(x1,x2),neq(x1,x2))\n",
        "def primos(x,y):\n",
        "  p1,p2=var(),var()\n",
        "  return lall(padres(p2,y),hermanos(p1,p2),hijos(x,p1))\n",
        "\n",
        "print(run(4,x,abuelos(x,\"Tania\")))\n",
        "print(run(4,x,hijos(x,\"Maria\")))\n",
        "print(run(4,x,tios(x,\"Isrrael\")))\n",
        "print(run(4,x,hermanos(x,\"Rosa\")))\n",
        "print(run(6,x,primos(x,\"Tania\")))"
      ]
    }
  ],
  "metadata": {
    "colab": {
      "provenance": []
    },
    "kernelspec": {
      "display_name": "Python 3",
      "name": "python3"
    },
    "language_info": {
      "name": "python"
    }
  },
  "nbformat": 4,
  "nbformat_minor": 0
}
